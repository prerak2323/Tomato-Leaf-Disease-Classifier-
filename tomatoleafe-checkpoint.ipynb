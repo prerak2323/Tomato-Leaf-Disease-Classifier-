{
 "cells": [
  {
   "cell_type": "code",
   "execution_count": null,
   "id": "c75b4c5a",
   "metadata": {},
   "outputs": [],
   "source": [
    "import numpy as np\n",
    "import pandas as pd \n",
    "import tensorflow as tf\n",
    "import matplotlib.pyplot as plt"
   ]
  },
  {
   "cell_type": "code",
   "execution_count": null,
   "id": "92dfb7b3",
   "metadata": {},
   "outputs": [],
   "source": [
    "from keras.preprocessing.image import ImageDataGenerator"
   ]
  },
  {
   "cell_type": "code",
   "execution_count": null,
   "id": "acf98e32",
   "metadata": {},
   "outputs": [],
   "source": [
    "train_datagen=ImageDataGenerator(rescale=1./125,shear_range=0.2,zoom_range=0.2,horizontal_flip=True)"
   ]
  },
  {
   "cell_type": "code",
   "execution_count": null,
   "id": "1547cfa0",
   "metadata": {},
   "outputs": [],
   "source": [
    "training_set=train_datagen.flow_from_directory('tomato/train',target_size=(64,64),batch_size=32,class_mode='categorical')"
   ]
  },
  {
   "cell_type": "code",
   "execution_count": null,
   "id": "35024ea9",
   "metadata": {},
   "outputs": [],
   "source": [
    "test_datagen=ImageDataGenerator(rescale=1./125)\n",
    "test_set=test_datagen.flow_from_directory('tomato/valid',target_size=(64,64),batch_size=32,class_mode='categorical')"
   ]
  },
  {
   "cell_type": "code",
   "execution_count": null,
   "id": "63544a7a",
   "metadata": {},
   "outputs": [],
   "source": [
    "#building a cnn\n",
    "cnn=tf.keras.models.Sequential()\n",
    "cnn.add(tf.keras.layers.Conv2D(filters=32,\n",
    "                               padding='same',\n",
    "                              kernel_size=3,\n",
    "                              activation='relu',\n",
    "                              input_shape=[64,64,3]))"
   ]
  },
  {
   "cell_type": "code",
   "execution_count": null,
   "id": "03c729d5",
   "metadata": {},
   "outputs": [],
   "source": [
    "#maxpooling\n",
    "cnn.add(tf.keras.layers.MaxPool2D(pool_size=2,strides=2))"
   ]
  },
  {
   "cell_type": "code",
   "execution_count": null,
   "id": "c7bd7755",
   "metadata": {},
   "outputs": [],
   "source": [
    "#adding second layer\n",
    "#adding 2nd cnn layer\n",
    "cnn.add(tf.keras.layers.Conv2D(filters=32,\n",
    "                              kernel_size=3,\n",
    "                              activation='relu'))\n",
    "# max pooling\n",
    "cnn.add(tf.keras.layers.MaxPool2D(pool_size=2,strides=2))"
   ]
  },
  {
   "cell_type": "code",
   "execution_count": null,
   "id": "ea28032e",
   "metadata": {},
   "outputs": [],
   "source": [
    "#flatteing\n",
    "cnn.add(tf.keras.layers.Flatten())"
   ]
  },
  {
   "cell_type": "code",
   "execution_count": null,
   "id": "7b0d59f5",
   "metadata": {},
   "outputs": [],
   "source": [
    "#full connection\n",
    "cnn.add(tf.keras.layers.Dense(units=128,activation='relu'))\n"
   ]
  },
  {
   "cell_type": "code",
   "execution_count": null,
   "id": "236438a8",
   "metadata": {},
   "outputs": [],
   "source": [
    "#output layer\n",
    "cnn.add(tf.keras.layers.Dense(units=11,activation='sigmoid'))"
   ]
  },
  {
   "cell_type": "code",
   "execution_count": null,
   "id": "ce0d9aca",
   "metadata": {},
   "outputs": [],
   "source": [
    "#training the data set and compiling\n",
    "cnn.compile(optimizer='adam',loss='categorical_crossentropy',metrics=['accuracy'])"
   ]
  },
  {
   "cell_type": "code",
   "execution_count": null,
   "id": "4f585424",
   "metadata": {},
   "outputs": [],
   "source": [
    "#training the cnn on the training set and evaulating it on the test set\n",
    "cnn.fit(x=training_set,validation_data=test_set,epochs=25)\n",
    "# batch_size*epoch=250 below\n"
   ]
  },
  {
   "cell_type": "code",
   "execution_count": null,
   "id": "0f91dbc1",
   "metadata": {},
   "outputs": [],
   "source": [
    "#make a single prediction\n",
    "import numpy as np\n",
    "from tensorflow.keras.preprocessing import image"
   ]
  },
  {
   "cell_type": "code",
   "execution_count": null,
   "id": "9720ecd7",
   "metadata": {},
   "outputs": [],
   "source": [
    "test_image= image.load_img('tl.jpg',target_size=(64,64))\n",
    "test_image=image.img_to_array(test_image)\n",
    "test_image=np.expand_dims(test_image,axis=0)\n",
    "result=cnn.predict(test_image)\n",
    "training_set.class_indices\n"
   ]
  },
  {
   "cell_type": "code",
   "execution_count": null,
   "id": "b09fd1b5",
   "metadata": {},
   "outputs": [],
   "source": [
    "# def res():\n",
    "#     if  result[0][0]==1 :\n",
    "#         return ('Bacterial_spot',result[0][0])\n",
    "#     if result[0][1]==1 :\n",
    "#         return ('Early_blight',result[0][0])\n",
    "#     if result[0][2]==1 :\n",
    "#         return ('Late_blight',result[0][2])\n",
    "#     if result[0][3]==1 :\n",
    "#         return ('Leaf_Mold',result[0][3])\n",
    "#     if result[0][4]==1 :\n",
    "#         return ('Septoria_leaf_spot',result[0][4])\n",
    "#     if result[0][5]==1 :\n",
    "#         return ('Spider_mites Two-spotted_spider_mite',result[0][5])\n",
    "#     if result[0][6]==1 :\n",
    "#         return ('Target_Spot',result[0][6])\n",
    "#     if result[0][7]==1 :\n",
    "#         return ('Tomato_Yellow_Leaf_Curl_Virus',result[0][7])\n",
    "#     if result[0][8]==1 :\n",
    "#         return ('Tomato_mosaic_virus',result[0][8])\n",
    "#     if result[0][9]==1 :\n",
    "#         return ('healthy',result[0][9])\n",
    "#     if result[0][10]==1 :\n",
    "#         return ('powdery_mildew', result[0][10])\n",
    "        "
   ]
  },
  {
   "cell_type": "code",
   "execution_count": null,
   "id": "2bf1ec2d",
   "metadata": {},
   "outputs": [],
   "source": [
    "# res()"
   ]
  },
  {
   "cell_type": "code",
   "execution_count": null,
   "id": "01c015f6",
   "metadata": {},
   "outputs": [],
   "source": [
    "# Save the model\n",
    "cnn.save('ml_loded_model')\n",
    "from tensorflow.keras.models import load_model\n",
    "\n",
    "# Load the saved model\n",
    "tomato=load_model('ml_loded_model')\n"
   ]
  },
  {
   "cell_type": "code",
   "execution_count": null,
   "id": "a6d82091",
   "metadata": {},
   "outputs": [],
   "source": [
    "    import tensorflow as tf\n",
    "    from tensorflow.keras.preprocessing import image"
   ]
  },
  {
   "cell_type": "code",
   "execution_count": null,
   "id": "2f517d09",
   "metadata": {},
   "outputs": [],
   "source": [
    "# def res(result):\n",
    "#     if result[0][0]==1 :\n",
    "#         return ('Bacterial_spot',result[0][0])\n",
    "#     if result[0][1]==1 :\n",
    "#         return ('Early_blight',result[0][0])\n",
    "#     if result[0][2]==1 :\n",
    "#         return ('Late_blight',result[0][2])\n",
    "#     if result[0][3]==1 :\n",
    "#         return ('Leaf_Mold',result[0][3])\n",
    "#     if result[0][4]==1 :\n",
    "#         return ('Septoria_leaf_spot',result[0][4])\n",
    "#     if result[0][5]==1 :\n",
    "#         return ('Spider_mites Two-spotted_spider_mite',result[0][5])\n",
    "#     if result[0][6]==1 :\n",
    "#         return ('Target_Spot',result[0][6])\n",
    "#     if result[0][7]==1 :\n",
    "#         return ('Tomato_Yellow_Leaf_Curl_Virus',result[0][7])\n",
    "#     if result[0][8]==1 :\n",
    "#         return ('Tomato_mosaic_virus',result[0][8])\n",
    "#     if result[0][9]==1 :\n",
    "#         return ('healthy',result[0][9])\n",
    "#     if result[0][10]==1 :\n",
    "#         return ('powdery_mildew', result[0][10])\n",
    "        \n",
    "\n",
    "\n",
    "def pred(path):\n",
    "    tomato = tf.keras.models.load_model('ml_loded_model') #to load the saved model\n",
    "    test_image= image.load_img(path,target_size=(64,64))\n",
    "    test_image=image.img_to_array(test_image)\n",
    "    test_image=np.expand_dims(test_image,axis=0)\n",
    "    result=tomato.predict(test_image)\n",
    "    if result[0][0]==1 :\n",
    "        return ('Bacterial_spot',result[0][0])\n",
    "    elif result[0][1]==1 :\n",
    "        return ('Early_blight',result[0][1])\n",
    "    elif result[0][2]==1 :\n",
    "        return ('Late_blight',result[0][2])\n",
    "    elif result[0][3]==1 :\n",
    "        return ('Leaf_Mold',result[0][3])\n",
    "    elif result[0][4]==1 :\n",
    "        return ('Septoria_leaf_spot',result[0][4])\n",
    "    elif result[0][5]==1 :\n",
    "        return ('Spider_mites Two-spotted_spider_mite',result[0][5])\n",
    "    elif result[0][6]==1 :\n",
    "        return ('Target_Spot',result[0][6])\n",
    "    elif result[0][7]==1 :\n",
    "        return ('Tomato_Yellow_Leaf_Curl_Virus',result[0][7])\n",
    "    elif result[0][8]==1 :\n",
    "        return ('Tomato_mosaic_virus',result[0][8])\n",
    "    elif result[0][9]==1 :\n",
    "        return ('healthy',result[0][9])\n",
    "    elif result[0][10]==1 :\n",
    "        return ('powdery_mildew', result[0][10])\n",
    "    \n"
   ]
  },
  {
   "cell_type": "code",
   "execution_count": 3,
   "id": "f0af7892",
   "metadata": {},
   "outputs": [
    {
     "name": "stdout",
     "output_type": "stream",
     "text": [
      " * Serving Flask app '__main__'\n",
      " * Debug mode: off\n"
     ]
    },
    {
     "name": "stderr",
     "output_type": "stream",
     "text": [
      "WARNING: This is a development server. Do not use it in a production deployment. Use a production WSGI server instead.\n",
      " * Running on http://127.0.0.1:5000\n",
      "Press CTRL+C to quit\n",
      "127.0.0.1 - - [23/Jun/2023 11:00:01] \"GET / HTTP/1.1\" 200 -\n",
      "[2023-06-23 11:00:03,761] ERROR in app: Exception on /upload [POST]\n",
      "Traceback (most recent call last):\n",
      "  File \"C:\\Users\\Prerak\\AppData\\Local\\Programs\\Python\\Python311\\Lib\\site-packages\\flask\\app.py\", line 2528, in wsgi_app\n",
      "    response = self.full_dispatch_request()\n",
      "               ^^^^^^^^^^^^^^^^^^^^^^^^^^^^\n",
      "  File \"C:\\Users\\Prerak\\AppData\\Local\\Programs\\Python\\Python311\\Lib\\site-packages\\flask\\app.py\", line 1825, in full_dispatch_request\n",
      "    rv = self.handle_user_exception(e)\n",
      "         ^^^^^^^^^^^^^^^^^^^^^^^^^^^^^\n",
      "  File \"C:\\Users\\Prerak\\AppData\\Local\\Programs\\Python\\Python311\\Lib\\site-packages\\flask\\app.py\", line 1823, in full_dispatch_request\n",
      "    rv = self.dispatch_request()\n",
      "         ^^^^^^^^^^^^^^^^^^^^^^^\n",
      "  File \"C:\\Users\\Prerak\\AppData\\Local\\Programs\\Python\\Python311\\Lib\\site-packages\\flask\\app.py\", line 1799, in dispatch_request\n",
      "    return self.ensure_sync(self.view_functions[rule.endpoint])(**view_args)\n",
      "           ^^^^^^^^^^^^^^^^^^^^^^^^^^^^^^^^^^^^^^^^^^^^^^^^^^^^^^^^^^^^^^^^^\n",
      "  File \"C:\\Users\\Prerak\\AppData\\Local\\Temp\\ipykernel_21060\\3748906119.py\", line 17, in upload\n",
      "    image_file.save(image_path)\n",
      "  File \"C:\\Users\\Prerak\\AppData\\Local\\Programs\\Python\\Python311\\Lib\\site-packages\\werkzeug\\datastructures.py\", line 3002, in save\n",
      "    dst = open(dst, \"wb\")\n",
      "          ^^^^^^^^^^^^^^^\n",
      "FileNotFoundError: [Errno 2] No such file or directory: 'templates\\\\'\n",
      "127.0.0.1 - - [23/Jun/2023 11:00:03] \"POST /upload HTTP/1.1\" 500 -\n"
     ]
    },
    {
     "name": "stdout",
     "output_type": "stream",
     "text": [
      "WARNING:tensorflow:6 out of the last 6 calls to <function Model.make_predict_function.<locals>.predict_function at 0x000001F2AEE8C220> triggered tf.function retracing. Tracing is expensive and the excessive number of tracings could be due to (1) creating @tf.function repeatedly in a loop, (2) passing tensors with different shapes, (3) passing Python objects instead of tensors. For (1), please define your @tf.function outside of the loop. For (2), @tf.function has reduce_retracing=True option that can avoid unnecessary retracing. For (3), please refer to https://www.tensorflow.org/guide/function#controlling_retracing and https://www.tensorflow.org/api_docs/python/tf/function for  more details.\n",
      "1/1 [==============================] - 0s 136ms/step\n"
     ]
    },
    {
     "name": "stderr",
     "output_type": "stream",
     "text": [
      "127.0.0.1 - - [23/Jun/2023 11:00:13] \"POST /upload HTTP/1.1\" 200 -\n"
     ]
    }
   ],
   "source": [
    "from flask import Flask, render_template, request\n",
    "import os\n",
    "import numpy as np\n",
    "app = Flask(__name__)\n",
    "@app.route('/')\n",
    "def home():\n",
    "    return render_template('index.html')\n",
    "@app.route('/upload', methods=['POST'])\n",
    "def upload():\n",
    "    # Get the uploaded file\n",
    "    image_file = request.files['image']\n",
    "     # Specify the directory to save the uploaded images\n",
    "    save_dir = 'templates'\n",
    "\n",
    "    # Save the uploaded image to a file\n",
    "    image_path = os.path.join(save_dir, image_file.filename)\n",
    "    image_file.save(image_path)\n",
    "    return render_template('index.html',prediction=pred(image_path))\n",
    "    \n",
    "    \n",
    "    # Return the predictions to the web page\n",
    "if __name__ == '__main__':\n",
    "    app.run()\n"
   ]
  },
  {
   "cell_type": "code",
   "execution_count": null,
   "id": "3886255b",
   "metadata": {},
   "outputs": [],
   "source": []
  }
 ],
 "metadata": {
  "kernelspec": {
   "display_name": "Python 3 (ipykernel)",
   "language": "python",
   "name": "python3"
  },
  "language_info": {
   "codemirror_mode": {
    "name": "ipython",
    "version": 3
   },
   "file_extension": ".py",
   "mimetype": "text/x-python",
   "name": "python",
   "nbconvert_exporter": "python",
   "pygments_lexer": "ipython3",
   "version": "3.11.2"
  },
  "varInspector": {
   "cols": {
    "lenName": 16,
    "lenType": 16,
    "lenVar": 40
   },
   "kernels_config": {
    "python": {
     "delete_cmd_postfix": "",
     "delete_cmd_prefix": "del ",
     "library": "var_list.py",
     "varRefreshCmd": "print(var_dic_list())"
    },
    "r": {
     "delete_cmd_postfix": ") ",
     "delete_cmd_prefix": "rm(",
     "library": "var_list.r",
     "varRefreshCmd": "cat(var_dic_list()) "
    }
   },
   "types_to_exclude": [
    "module",
    "function",
    "builtin_function_or_method",
    "instance",
    "_Feature"
   ],
   "window_display": false
  }
 },
 "nbformat": 4,
 "nbformat_minor": 5
}
